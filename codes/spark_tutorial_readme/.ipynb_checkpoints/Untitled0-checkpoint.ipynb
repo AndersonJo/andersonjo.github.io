{
 "metadata": {
  "name": "",
  "signature": "sha256:24aefb63587eae705b5338b3398b01d84c7ede80ba854914d98c3250855eb6bf"
 },
 "nbformat": 3,
 "nbformat_minor": 0,
 "worksheets": [
  {
   "cells": [
    {
     "cell_type": "code",
     "collapsed": false,
     "input": [
      "from pyspark import SparkContext, SparkConf\n",
      "\n",
      "spconf = SparkConf().setMaster('local').setAppName('Tutorial')\n",
      "sc = SparkContext(conf=spconf)"
     ],
     "language": "python",
     "metadata": {},
     "outputs": [],
     "prompt_number": 1
    },
    {
     "cell_type": "code",
     "collapsed": false,
     "input": [
      "rdd1 = sc.parallelize([1,2,3,4,5, 'a'])\n",
      "rdd2 = sc.parallelize(['a', 'b', 'c', 1, 2])"
     ],
     "language": "python",
     "metadata": {},
     "outputs": [],
     "prompt_number": 9
    },
    {
     "cell_type": "code",
     "collapsed": false,
     "input": [
      "print rdd1.union(rdd2).collect()\n",
      "print rdd1.intersection(rdd2).collect()\n"
     ],
     "language": "python",
     "metadata": {},
     "outputs": [
      {
       "output_type": "stream",
       "stream": "stdout",
       "text": [
        "[1, 2, 3, 4, 5, 'a', 'a', 'b', 'c', 1, 2]\n",
        "PythonRDD[25] at RDD at PythonRDD.scala:43"
       ]
      },
      {
       "output_type": "stream",
       "stream": "stdout",
       "text": [
        "\n"
       ]
      }
     ],
     "prompt_number": 11
    }
   ],
   "metadata": {}
  }
 ]
}