{
 "metadata": {
  "name": "",
  "signature": "sha256:ed4acf3a4ebb993585ec16c42463bbf2b715621977c1a79cfb53c44921db2fce"
 },
 "nbformat": 3,
 "nbformat_minor": 0,
 "worksheets": [
  {
   "cells": [
    {
     "cell_type": "code",
     "collapsed": false,
     "input": [
      "from pyspark import SparkContext, SparkConf\n",
      "\n",
      "spconf = SparkConf().setMaster('local').setAppName('Tutorial')\n",
      "sc = SparkContext(conf=spconf)"
     ],
     "language": "python",
     "metadata": {},
     "outputs": [],
     "prompt_number": 1
    },
    {
     "cell_type": "code",
     "collapsed": false,
     "input": [
      "rdd = sc.parallelize([1,2,3,4,5,6,7,8,9,10,11,12,13,14,15])\n",
      "for line in rdd.take(5):\n",
      "    print line\n",
      "    "
     ],
     "language": "python",
     "metadata": {},
     "outputs": [
      {
       "output_type": "stream",
       "stream": "stdout",
       "text": [
        "1\n",
        "2\n",
        "3\n",
        "4\n",
        "5\n"
       ]
      }
     ],
     "prompt_number": 2
    }
   ],
   "metadata": {}
  }
 ]
}